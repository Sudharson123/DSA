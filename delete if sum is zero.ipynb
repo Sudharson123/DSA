{
 "cells": [
  {
   "cell_type": "code",
   "execution_count": 2,
   "id": "d9e2c4af",
   "metadata": {},
   "outputs": [
    {
     "name": "stdout",
     "output_type": "stream",
     "text": [
      "[25]\n"
     ]
    }
   ],
   "source": [
    "class Node():\n",
    "    def __init__(self,data):\n",
    "        self.data = data\n",
    "        self.next = None\n",
    "\n",
    "class Linkedlist():\n",
    "    def __init__(self):\n",
    "        self.head = None\n",
    "    def append(self,data):\n",
    "        new_node = Node(data)\n",
    "        h = self.head\n",
    "        if self.head is None:\n",
    "            self.head = new_node\n",
    "            return\n",
    "        else:\n",
    "            while h.next!=None:\n",
    "                h = h.next\n",
    "            h.next = new_node\n",
    "    def remove_zeros_from_linkedlist(self, head):\n",
    "        stack = []\n",
    "        curr = head\n",
    "        list = []\n",
    "        while (curr):\n",
    "            if curr.data >= 0:\n",
    "                stack.append(curr)\n",
    "            else:\n",
    "                temp = curr\n",
    "                sum = temp.data\n",
    "                flag = False\n",
    "                while (len(stack) != 0):\n",
    "                    temp2 = stack.pop()\n",
    "                    sum += temp2.data\n",
    "                    if sum == 0:\n",
    "                        flag = True\n",
    "                        list = []\n",
    "                        break\n",
    "                    elif sum > 0:\n",
    "                        list.append(temp2)\n",
    "                if not flag:\n",
    "                    if len(list) > 0:\n",
    "                        for i in range(len(list)):\n",
    "                            stack.append(list.pop())\n",
    "                    stack.append(temp)\n",
    "            curr = curr.next\n",
    "        return [i.data for i in stack]\n",
    "\n",
    "\n",
    "l = Linkedlist()\n",
    "l.append(4)\n",
    "l.append(6)\n",
    "l.append(-10)\n",
    "l.append(25)\n",
    "print(l.remove_zeros_from_linkedlist(l.head))"
   ]
  },
  {
   "cell_type": "code",
   "execution_count": null,
   "id": "67fb6546",
   "metadata": {},
   "outputs": [],
   "source": []
  }
 ],
 "metadata": {
  "kernelspec": {
   "display_name": "Python 3 (ipykernel)",
   "language": "python",
   "name": "python3"
  },
  "language_info": {
   "codemirror_mode": {
    "name": "ipython",
    "version": 3
   },
   "file_extension": ".py",
   "mimetype": "text/x-python",
   "name": "python",
   "nbconvert_exporter": "python",
   "pygments_lexer": "ipython3",
   "version": "3.10.0"
  }
 },
 "nbformat": 4,
 "nbformat_minor": 5
}
