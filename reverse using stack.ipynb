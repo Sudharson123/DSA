{
 "cells": [
  {
   "cell_type": "code",
   "execution_count": 2,
   "id": "0bf957e5",
   "metadata": {},
   "outputs": [
    {
     "name": "stdout",
     "output_type": "stream",
     "text": [
      "emordnilap\n"
     ]
    }
   ],
   "source": [
    "def rev(string):\n",
    "    stack=[]\n",
    "    a=''\n",
    "    for i in string:\n",
    "        stack.append(i)\n",
    "    for j in range(len(stack)):\n",
    "        b=stack.pop()\n",
    "        a+=b\n",
    "    return a\n",
    "print(rev(\"palindrome\"))"
   ]
  },
  {
   "cell_type": "code",
   "execution_count": null,
   "id": "3230631f",
   "metadata": {},
   "outputs": [],
   "source": []
  }
 ],
 "metadata": {
  "kernelspec": {
   "display_name": "Python 3 (ipykernel)",
   "language": "python",
   "name": "python3"
  },
  "language_info": {
   "codemirror_mode": {
    "name": "ipython",
    "version": 3
   },
   "file_extension": ".py",
   "mimetype": "text/x-python",
   "name": "python",
   "nbconvert_exporter": "python",
   "pygments_lexer": "ipython3",
   "version": "3.10.0"
  }
 },
 "nbformat": 4,
 "nbformat_minor": 5
}
