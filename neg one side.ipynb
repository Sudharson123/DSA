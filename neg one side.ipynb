{
 "cells": [
  {
   "cell_type": "code",
   "execution_count": 8,
   "id": "d80251cb",
   "metadata": {},
   "outputs": [
    {
     "name": "stdout",
     "output_type": "stream",
     "text": [
      "[5, 6, 7, 56, 0, 34, 43, -6, -2, -1, -5]\n"
     ]
    }
   ],
   "source": [
    "def neg(lst):\n",
    "    a=-1\n",
    "    for i in lst:\n",
    "        if i<0:\n",
    "            temp=i\n",
    "            lst.remove(i)\n",
    "            lst.append(temp)\n",
    "            a-=1\n",
    "        else:\n",
    "            pass\n",
    "    return lst\n",
    "print(neg([-6,5,6,7,56,-1,0,34,-2,43,-5]))"
   ]
  },
  {
   "cell_type": "code",
   "execution_count": null,
   "id": "f92c7682",
   "metadata": {},
   "outputs": [],
   "source": []
  }
 ],
 "metadata": {
  "kernelspec": {
   "display_name": "Python 3 (ipykernel)",
   "language": "python",
   "name": "python3"
  },
  "language_info": {
   "codemirror_mode": {
    "name": "ipython",
    "version": 3
   },
   "file_extension": ".py",
   "mimetype": "text/x-python",
   "name": "python",
   "nbconvert_exporter": "python",
   "pygments_lexer": "ipython3",
   "version": "3.10.0"
  }
 },
 "nbformat": 4,
 "nbformat_minor": 5
}
