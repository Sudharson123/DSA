{
 "cells": [
  {
   "cell_type": "markdown",
   "id": "5e98e2df",
   "metadata": {},
   "source": [
    "# Find the Kth largest in an array\n"
   ]
  },
  {
   "cell_type": "code",
   "execution_count": 4,
   "id": "e107ba1a",
   "metadata": {},
   "outputs": [
    {
     "name": "stdout",
     "output_type": "stream",
     "text": [
      "56\n"
     ]
    }
   ],
   "source": [
    "def large(lst):\n",
    "    a=lst[0]\n",
    "    for i in lst:\n",
    "        if i>a:\n",
    "            a=i\n",
    "        else:\n",
    "            pass\n",
    "    return a\n",
    "print(large([2,5,6,7,56]))"
   ]
  },
  {
   "cell_type": "markdown",
   "id": "07080992",
   "metadata": {},
   "source": [
    "# Find the Kth smallest in an array"
   ]
  },
  {
   "cell_type": "code",
   "execution_count": 6,
   "id": "728f6c8d",
   "metadata": {},
   "outputs": [
    {
     "name": "stdout",
     "output_type": "stream",
     "text": [
      "5\n"
     ]
    }
   ],
   "source": [
    "def small(lst):\n",
    "    a=lst[0]\n",
    "    for i in lst:\n",
    "        if i<a:\n",
    "            a=i\n",
    "        else:\n",
    "            pass\n",
    "    return a\n",
    "print(small([5,6,7,56]))"
   ]
  },
  {
   "cell_type": "code",
   "execution_count": null,
   "id": "2b5f18d6",
   "metadata": {},
   "outputs": [],
   "source": []
  }
 ],
 "metadata": {
  "kernelspec": {
   "display_name": "Python 3 (ipykernel)",
   "language": "python",
   "name": "python3"
  },
  "language_info": {
   "codemirror_mode": {
    "name": "ipython",
    "version": 3
   },
   "file_extension": ".py",
   "mimetype": "text/x-python",
   "name": "python",
   "nbconvert_exporter": "python",
   "pygments_lexer": "ipython3",
   "version": "3.10.0"
  }
 },
 "nbformat": 4,
 "nbformat_minor": 5
}
